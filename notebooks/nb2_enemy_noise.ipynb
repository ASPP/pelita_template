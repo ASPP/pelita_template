{
 "cells": [
  {
   "cell_type": "markdown",
   "metadata": {},
   "source": [
    "# Enemy Noise"
   ]
  },
  {
   "cell_type": "code",
   "execution_count": 1,
   "metadata": {
    "execution": {
     "iopub.execute_input": "2021-06-26T05:43:45.866Z",
     "iopub.status.busy": "2021-06-26T05:43:45.856Z",
     "iopub.status.idle": "2021-06-26T05:43:45.879Z",
     "shell.execute_reply": "2021-06-26T05:43:45.886Z"
    },
    "inputHidden": false,
    "outputHidden": false
   },
   "outputs": [],
   "source": [
    "import pelita\n",
    "import matplotlib\n",
    "from matplotlib import pyplot as plt\n",
    "import numpy as np"
   ]
  },
  {
   "cell_type": "markdown",
   "metadata": {},
   "source": [
    "First we define some helper functions. They are described in detail in `nb1_matplotlib_and_numpy.ipynb`."
   ]
  },
  {
   "cell_type": "code",
   "execution_count": 2,
   "metadata": {
    "execution": {
     "iopub.execute_input": "2021-06-26T05:43:47.501Z",
     "iopub.status.busy": "2021-06-26T05:43:47.495Z",
     "iopub.status.idle": "2021-06-26T05:43:47.512Z",
     "shell.execute_reply": "2021-06-26T05:43:47.518Z"
    },
    "inputHidden": false,
    "outputHidden": false
   },
   "outputs": [],
   "source": [
    "def draw_coords(coords, ax, params={}):\n",
    "    \"\"\"\n",
    "    Takes a list of coordinates and draws them as scatter elements onto a pyplot ax object\n",
    "\n",
    "    Input:\n",
    "    - coords: list of tuples of x,y coordinates\n",
    "    - ax: a pyplot ax object\n",
    "    - params: parameters to be passed to the scatter function (e.g. shape, size, color, etc.)\n",
    "    Returns:\n",
    "    - ax: a pyplot ax object\n",
    "    \"\"\"\n",
    "    # coords is an iterable of (x,y) tuples: [(x1, y1), (x2, y2), ..., (xn, yn)]\n",
    "    # the zip(*) trick transposes this iterable:\n",
    "    # ([x1, x2, ..., xn], [y1, y2, ..., yn])\n",
    "    coords_x, coords_y = zip(*coords)\n",
    "    ax.scatter(coords_x, coords_y, **params)\n",
    "    return ax"
   ]
  },
  {
   "cell_type": "code",
   "execution_count": 3,
   "metadata": {
    "execution": {
     "iopub.execute_input": "2021-06-26T05:43:47.815Z",
     "iopub.status.busy": "2021-06-26T05:43:47.806Z",
     "iopub.status.idle": "2021-06-26T05:43:47.829Z",
     "shell.execute_reply": "2021-06-26T05:43:47.836Z"
    },
    "inputHidden": false,
    "outputHidden": false
   },
   "outputs": [],
   "source": [
    "def draw_game(bot, ax):\n",
    "    \"\"\"\n",
    "    Draws game state as scatter elements given a bot object.\n",
    "\n",
    "    Input:\n",
    "    - bot : pelita bot object\n",
    "    - ax : a pyplot axis object\n",
    "    Returns:\n",
    "    -ax : a pyplot axis object\n",
    "    \"\"\"\n",
    "    # Depending which team we are, we need to color the board appropriately\n",
    "    if bot.is_blue:\n",
    "        col_home_food = \"blue\"\n",
    "        col_home_b1 = \"green\"\n",
    "        col_home_b2 = \"darkgreen\"\n",
    "        col_enemy_food = \"red\"\n",
    "        col_enemy_b1 = \"orange\"\n",
    "        col_enemy_b2 = \"darkred\"\n",
    "    else:\n",
    "        col_home_food = \"red\"\n",
    "        col_home_b1 = \"orange\"\n",
    "        col_home_b2 = \"darkred\"\n",
    "        col_enemy_food = \"blue\"\n",
    "        col_enemy_b1 = \"green\"\n",
    "        col_enemy_b2 = \"darkgreen\"\n",
    "\n",
    "    # Then we call the draw_coords function for each type of element we want to draw.\n",
    "    # Each can be customized with whichever color, shape and size you want.\n",
    "    ax = draw_coords([bot.position], ax, {\"c\": col_home_b1, \"marker\": \"*\", \"s\": 400})\n",
    "    ax = draw_coords(bot.walls, ax, {\"c\": \"black\", \"marker\": \"s\", \"s\": 250})\n",
    "    ax = draw_coords([bot.other.position], ax, {\"c\": col_home_b2, \"marker\": \"*\", \"s\": 400})\n",
    "    ax = draw_coords(bot.food, ax, {\"c\": col_home_food, \"s\": 100})\n",
    "    ax = draw_coords(bot.enemy[0].food, ax, {\"c\": col_enemy_food, \"s\": 100})\n",
    "    ax = draw_coords([bot.enemy[0].position], ax, {\"c\": col_enemy_b1, \"marker\": \"*\", \"s\": 400})\n",
    "    ax = draw_coords([bot.enemy[1].position], ax, {\"c\": col_enemy_b2, \"marker\": \"*\", \"s\": 400})\n",
    "    ax.axvline(np.sum(ax.get_xlim()) / 2, c=\"black\")\n",
    "    # This is to get the coordinate system to have it's origin in the top left\n",
    "    yd, yu = ax.get_ylim()\n",
    "    if yd < yu:\n",
    "        ax.invert_yaxis()\n",
    "    return ax"
   ]
  },
  {
   "cell_type": "markdown",
   "metadata": {},
   "source": [
    "## Enemy Noise\n",
    "When they are more than 5 fields away, the position given by `bot.enemy.position` is noisy. As the documentation says \n",
    "\n",
    "> your bot has a sight-radius of 5 squares. This means that when an enemy bot is located more than 5 squares away from your bot, `bot.enemy[0].position` will not be exact and `bot.enemy[0].is_noisy` will be True."
   ]
  },
  {
   "cell_type": "code",
   "execution_count": 4,
   "metadata": {
    "execution": {
     "iopub.execute_input": "2021-06-26T05:51:27.857Z",
     "iopub.status.busy": "2021-06-26T05:51:27.848Z",
     "iopub.status.idle": "2021-06-26T05:51:28.105Z",
     "shell.execute_reply": "2021-06-26T05:51:28.123Z"
    },
    "inputHidden": false,
    "outputHidden": false
   },
   "outputs": [
    {
     "data": {
      "image/png": "[encoded data removed]",
      "text/plain": [
       "<Figure size 1440x720 with 1 Axes>"
      ]
     },
     "metadata": {
      "needs_background": "light"
     },
     "output_type": "display_data"
    }
   ],
   "source": [
    "layout_str=\"\"\"\n",
    "################################\n",
    "#   ...    #. .         . #    #\n",
    "# #####.## ..# #######.##   y  #\n",
    "#.  a .x.  # # ##    .  # #    #\n",
    "#  ###### ## #        #.#.     #\n",
    "#  #       #           .# #.## #\n",
    "#.     #  ..     ..###### # .# #\n",
    "##..######  #####  ..    .#.   #\n",
    "#   .#.    ..  #####  ######..##\n",
    "# #. # ######..     ..  #     .#\n",
    "# ##.# #.           #       #  #\n",
    "#     .#.#        # ## ######  #\n",
    "#    # #  .    ## # #  . .    .#\n",
    "#      ##.####### #.. ##.##### #\n",
    "#b   # .         . .#    ...   #\n",
    "################################\n",
    "\"\"\"\n",
    "bot = pelita.utils.setup_test_game(layout=layout_str, is_blue=True, is_noisy={\"y\": True})\n",
    "fig, ax = plt.subplots(figsize=(20,10))\n",
    "ax = draw_game(bot, ax)"
   ]
  },
  {
   "cell_type": "markdown",
   "metadata": {},
   "source": [
    "We can check the noisiness of the bots like so:"
   ]
  },
  {
   "cell_type": "code",
   "execution_count": 5,
   "metadata": {
    "execution": {
     "iopub.execute_input": "2021-06-26T05:51:35.368Z",
     "iopub.status.busy": "2021-06-26T05:51:35.360Z",
     "iopub.status.idle": "2021-06-26T05:51:35.383Z",
     "shell.execute_reply": "2021-06-26T05:51:35.389Z"
    },
    "inputHidden": false,
    "outputHidden": false
   },
   "outputs": [
    {
     "name": "stdout",
     "output_type": "stream",
     "text": [
      "enemy 0 is noisy:  False\n",
      "enemy 1 is noisy:  True\n"
     ]
    }
   ],
   "source": [
    "print(\"enemy 0 is noisy: \", bot.enemy[0].is_noisy)\n",
    "print(\"enemy 1 is noisy: \", bot.enemy[1].is_noisy)"
   ]
  },
  {
   "cell_type": "markdown",
   "metadata": {},
   "source": [
    "Let's find all the fields the enemy could be on. Any field that is 5 horizontal or vertical steps away is potentially the true enemy position"
   ]
  },
  {
   "cell_type": "code",
   "execution_count": 6,
   "metadata": {
    "execution": {
     "iopub.execute_input": "2021-06-26T05:51:36.726Z",
     "iopub.status.busy": "2021-06-26T05:51:36.719Z",
     "iopub.status.idle": "2021-06-26T05:51:36.737Z",
     "shell.execute_reply": "2021-06-26T05:51:36.744Z"
    },
    "inputHidden": false,
    "outputHidden": false
   },
   "outputs": [],
   "source": [
    "maze_width, maze_height = bot.shape"
   ]
  },
  {
   "cell_type": "markdown",
   "metadata": {
    "inputHidden": false,
    "outputHidden": false
   },
   "source": [
    "This gives us a an array where each field holds the number of horizontal or \n",
    "vertical fields it is away from enemy\\[1]"
   ]
  },
  {
   "cell_type": "code",
   "execution_count": 7,
   "metadata": {
    "execution": {
     "iopub.execute_input": "2021-06-26T05:51:38.391Z",
     "iopub.status.busy": "2021-06-26T05:51:38.383Z",
     "iopub.status.idle": "2021-06-26T05:51:38.404Z",
     "shell.execute_reply": "2021-06-26T05:51:38.410Z"
    },
    "inputHidden": false,
    "outputHidden": false
   },
   "outputs": [],
   "source": [
    "yy, xx = np.mgrid[0:maze_height, 0:maze_width]\n",
    "fields_away = abs(xx - bot.enemy[1].position[0]) + abs(yy - bot.enemy[1].position[1])"
   ]
  },
  {
   "cell_type": "markdown",
   "metadata": {
    "inputHidden": false,
    "outputHidden": false
   },
   "source": [
    "One approach is making each cell hold the probability of an enemy being in this location. For this we need to normalize our array"
   ]
  },
  {
   "cell_type": "code",
   "execution_count": 8,
   "metadata": {
    "execution": {
     "iopub.execute_input": "2021-06-26T05:51:39.980Z",
     "iopub.status.busy": "2021-06-26T05:51:39.973Z",
     "iopub.status.idle": "2021-06-26T05:51:39.993Z",
     "shell.execute_reply": "2021-06-26T05:51:39.999Z"
    },
    "inputHidden": false,
    "outputHidden": false
   },
   "outputs": [],
   "source": [
    "enemy_prob = fields_away.copy()\n",
    "# First we transform it into a binary array (enemy could be here vs. not)\n",
    "enemy_prob[enemy_prob<=5] = 1 \n",
    "enemy_prob[enemy_prob>5] = 0\n",
    "# Then just turn into a probability density\n",
    "enemy_prob = enemy_prob/np.sum(enemy_prob)\n",
    "# For visualization purposes we add a small eps value to the zeros, \n",
    "# so we can display log-values. Otherwise we can't see small activations\n",
    "enemy_prob[enemy_prob==0] = np.finfo(float).eps"
   ]
  },
  {
   "cell_type": "code",
   "execution_count": 9,
   "metadata": {
    "execution": {
     "iopub.execute_input": "2021-06-26T05:51:40.534Z",
     "iopub.status.busy": "2021-06-26T05:51:40.526Z",
     "iopub.status.idle": "2021-06-26T05:51:40.630Z",
     "shell.execute_reply": "2021-06-26T05:51:40.645Z"
    },
    "inputHidden": false,
    "outputHidden": false
   },
   "outputs": [
    {
     "data": {
      "text/plain": [
       "<matplotlib.image.AxesImage at 0x7fa2e9211668>"
      ]
     },
     "execution_count": 9,
     "metadata": {},
     "output_type": "execute_result"
    },
    {
     "data": {
      "image/png": "[encoded data removed]",
      "text/plain": [
       "<Figure size 432x288 with 1 Axes>"
      ]
     },
     "metadata": {
      "needs_background": "light"
     },
     "output_type": "display_data"
    }
   ],
   "source": [
    "plt.imshow(enemy_prob)"
   ]
  },
  {
   "cell_type": "markdown",
   "metadata": {
    "inputHidden": false,
    "outputHidden": false
   },
   "source": [
    "For enemy\\[0] we know exactly where it is, so we can just add that position with a probability of 1"
   ]
  },
  {
   "cell_type": "code",
   "execution_count": 10,
   "metadata": {
    "execution": {
     "iopub.execute_input": "2021-06-26T05:51:49.161Z",
     "iopub.status.busy": "2021-06-26T05:51:49.152Z",
     "iopub.status.idle": "2021-06-26T05:51:49.175Z",
     "shell.execute_reply": "2021-06-26T05:51:49.183Z"
    },
    "inputHidden": false,
    "outputHidden": false
   },
   "outputs": [],
   "source": [
    "enemy_prob[bot.enemy[0].position[1], bot.enemy[0].position[0]] = 1"
   ]
  },
  {
   "cell_type": "markdown",
   "metadata": {},
   "source": [
    "Plot the Probabilities using pyplot:"
   ]
  },
  {
   "cell_type": "code",
   "execution_count": 11,
   "metadata": {
    "execution": {
     "iopub.execute_input": "2021-06-26T05:51:50.135Z",
     "iopub.status.busy": "2021-06-26T05:51:50.126Z",
     "iopub.status.idle": "2021-06-26T05:51:50.416Z",
     "shell.execute_reply": "2021-06-26T05:51:50.436Z"
    },
    "inputHidden": false,
    "outputHidden": false
   },
   "outputs": [
    {
     "data": {
      "image/png": "[encoded data removed]",
      "text/plain": [
       "<Figure size 1440x720 with 1 Axes>"
      ]
     },
     "metadata": {
      "needs_background": "light"
     },
     "output_type": "display_data"
    }
   ],
   "source": [
    "fig, ax = plt.subplots(figsize=(20,10))\n",
    "ax.imshow(enemy_prob, norm=matplotlib.colors.LogNorm(), cmap=\"Reds\")\n",
    "ax = draw_game(bot, ax)"
   ]
  },
  {
   "cell_type": "markdown",
   "metadata": {},
   "source": [
    "When the enemy is closer but just out of sight (e.g. 6 fields away), the noise makes it possible for the reported position to be right next to you. This example is shown below using the same procedure as above:"
   ]
  },
  {
   "cell_type": "code",
   "execution_count": 12,
   "metadata": {
    "execution": {
     "iopub.execute_input": "2021-06-26T05:53:06.061Z",
     "iopub.status.busy": "2021-06-26T05:53:06.054Z",
     "iopub.status.idle": "2021-06-26T05:53:06.285Z",
     "shell.execute_reply": "2021-06-26T05:53:06.301Z"
    },
    "inputHidden": false,
    "outputHidden": false
   },
   "outputs": [
    {
     "data": {
      "image/png": "[encoded data removed]",
      "text/plain": [
       "<Figure size 1440x720 with 1 Axes>"
      ]
     },
     "metadata": {
      "needs_background": "light"
     },
     "output_type": "display_data"
    }
   ],
   "source": [
    "layout_str=\"\"\"\n",
    "################################\n",
    "#   ...    #. .         . #    #\n",
    "# #####.## ..# #######.##      #\n",
    "#.  a .y.  # # ##    .  # #    #\n",
    "#  ###### ## #        #.#.     #\n",
    "#  #       #           .# #.## #\n",
    "#.     #  ..     ..###### # .# #\n",
    "##..######  #####  ..    .#.   #\n",
    "#   .#.    ..  #####  ######..##\n",
    "# #. # ######..     ..  #     .#\n",
    "# ##.# #.           #       #  #\n",
    "#    x.#.#        # ## ######  #\n",
    "#    # #  .    ## # #  . .    .#\n",
    "#      ##.####### #.. ##.##### #\n",
    "#b   # .         . .#    ...   #\n",
    "################################\n",
    "\"\"\"\n",
    "bot = pelita.utils.setup_test_game(layout=layout_str, is_blue=True, is_noisy={\"y\": True})\n",
    "maze_width, maze_height = bot.shape\n",
    "yy, xx = np.mgrid[0:maze_height, 0:maze_width]\n",
    "fields_away = abs(xx - bot.enemy[1].position[0]) + abs(yy - bot.enemy[1].position[1])\n",
    "enemy_prob = fields_away.copy()\n",
    "enemy_prob[enemy_prob<=5] = 1 \n",
    "enemy_prob[enemy_prob>5] = 0\n",
    "enemy_prob = enemy_prob/np.sum(enemy_prob)\n",
    "enemy_prob[enemy_prob==0] = np.finfo(float).eps\n",
    "\n",
    "enemy_prob[bot.enemy[0].position[1], bot.enemy[0].position[0]] = 1\n",
    "\n",
    "fig, ax = plt.subplots(figsize=(20,10))\n",
    "ax.imshow(enemy_prob, norm=matplotlib.colors.LogNorm(), cmap=\"Reds\")\n",
    "ax = draw_game(bot, ax)"
   ]
  },
  {
   "cell_type": "code",
   "execution_count": null,
   "metadata": {
    "inputHidden": false,
    "outputHidden": false
   },
   "outputs": [],
   "source": []
  }
 ],
 "metadata": {
  "kernel_info": {
   "name": "pelita_env"
  },
  "kernelspec": {
   "display_name": "Python (pelita)",
   "language": "python",
   "name": "pelita"
  },
  "language_info": {
   "codemirror_mode": {
    "name": "ipython",
    "version": 3
   },
   "file_extension": ".py",
   "mimetype": "text/x-python",
   "name": "python",
   "nbconvert_exporter": "python",
   "pygments_lexer": "ipython3",
   "version": "3.7.0"
  },
  "nteract": {
   "version": "0.28.0"
  }
 },
 "nbformat": 4,
 "nbformat_minor": 4
}
