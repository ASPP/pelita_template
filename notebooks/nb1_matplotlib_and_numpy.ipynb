{
 "cells": [
  {
   "cell_type": "markdown",
   "metadata": {},
   "source": [
    "# Using Pelita with Numpy and Matplotlib"
   ]
  },
  {
   "cell_type": "code",
   "execution_count": 1,
   "metadata": {
    "execution": {
     "iopub.execute_input": "2021-06-26T05:42:32.311Z",
     "iopub.status.busy": "2021-06-26T05:42:32.301Z",
     "iopub.status.idle": "2021-06-26T05:42:32.478Z",
     "shell.execute_reply": "2021-06-26T05:42:32.557Z"
    },
    "inputHidden": false,
    "outputHidden": false
   },
   "outputs": [],
   "source": [
    "import pelita\n",
    "from matplotlib import pyplot as plt\n",
    "import numpy as np"
   ]
  },
  {
   "cell_type": "markdown",
   "metadata": {},
   "source": [
    "## Setup a toy game state\n",
    "We start by accessing layout from the pelita layouts and setting up a test game to get a bot object which will have all the information about the game."
   ]
  },
  {
   "cell_type": "code",
   "execution_count": 2,
   "metadata": {
    "execution": {
     "iopub.execute_input": "2021-06-26T05:42:33.756Z",
     "iopub.status.busy": "2021-06-26T05:42:33.746Z",
     "iopub.status.idle": "2021-06-26T05:42:33.773Z",
     "shell.execute_reply": "2021-06-26T05:42:33.792Z"
    },
    "inputHidden": false,
    "outputHidden": false
   },
   "outputs": [],
   "source": [
    "bot = pelita.utils.setup_test_game(layout=\"normal_003\", is_blue=True)"
   ]
  },
  {
   "cell_type": "markdown",
   "metadata": {},
   "source": [
    "## Visualize with Matplotlib\n",
    "We can use pyplot to visualize the game state. You can use `plt.scatter()` to add points to a plot. Watch out though, scatter takes a list of x and a list of y coordinates, not a list of (x,y) tuples.\n",
    "\n",
    "Let's start by defining two functions that will help us draw the main game elements of Pelita using matplotlib."
   ]
  },
  {
   "cell_type": "code",
   "execution_count": 3,
   "metadata": {
    "execution": {
     "iopub.execute_input": "2021-06-26T05:42:37.562Z",
     "iopub.status.busy": "2021-06-26T05:42:37.555Z",
     "iopub.status.idle": "2021-06-26T05:42:37.577Z",
     "shell.execute_reply": "2021-06-26T05:42:37.586Z"
    },
    "inputHidden": false,
    "outputHidden": false
   },
   "outputs": [],
   "source": [
    "def draw_coords(coords, ax, params={}):\n",
    "    \"\"\"\n",
    "    Takes a list of coordinates and draws them as scatter elements onto a pyplot ax object\n",
    "\n",
    "    Input:\n",
    "    - coords: list of tuples of x,y coordinates\n",
    "    - ax: a pyplot ax object\n",
    "    - params: parameters to be passed to the scatter function (e.g. shape, size, color, etc.)\n",
    "    Returns:\n",
    "    - ax: a pyplot ax object\n",
    "    \"\"\"\n",
    "    # coords is an iterable of (x,y) tuples: [(x1, y1), (x2, y2), ..., (xn, yn)]\n",
    "    # the zip(*) trick transposes this iterable:\n",
    "    # ([x1, x2, ..., xn], [y1, y2, ..., yn])\n",
    "    coords_x, coords_y = zip(*coords)\n",
    "    ax.scatter(coords_x, coords_y, **params)\n",
    "    return ax"
   ]
  },
  {
   "cell_type": "markdown",
   "metadata": {},
   "source": [
    "The `draw_game` takes the information about food, bot positions, and wall positions from the bot object and adds them to a pyplot, with nice shapes and colors to distinguish them."
   ]
  },
  {
   "cell_type": "code",
   "execution_count": 4,
   "metadata": {
    "execution": {
     "iopub.execute_input": "2021-06-26T05:42:38.886Z",
     "iopub.status.busy": "2021-06-26T05:42:38.875Z",
     "iopub.status.idle": "2021-06-26T05:42:38.898Z",
     "shell.execute_reply": "2021-06-26T05:42:38.907Z"
    },
    "inputHidden": false,
    "outputHidden": false
   },
   "outputs": [],
   "source": [
    "def draw_game(bot, ax):\n",
    "    \"\"\"\n",
    "    Draws game state as scatter elements given a bot object.\n",
    "\n",
    "    Input:\n",
    "    - bot : pelita bot object\n",
    "    - ax : a pyplot axis object\n",
    "    Returns:\n",
    "    -ax : a pyplot axis object\n",
    "    \"\"\"\n",
    "    # Depending which team we are, we need to color the board appropriately\n",
    "    if bot.is_blue:\n",
    "        col_home_food = \"blue\"\n",
    "        col_home_b1 = \"green\"\n",
    "        col_home_b2 = \"darkgreen\"\n",
    "        col_enemy_food = \"red\"\n",
    "        col_enemy_b1 = \"orange\"\n",
    "        col_enemy_b2 = \"darkred\"\n",
    "    else:\n",
    "        col_home_food = \"red\"\n",
    "        col_home_b1 = \"orange\"\n",
    "        col_home_b2 = \"darkred\"\n",
    "        col_enemy_food = \"blue\"\n",
    "        col_enemy_b1 = \"green\"\n",
    "        col_enemy_b2 = \"darkgreen\"\n",
    "\n",
    "    # Then we call the draw_coords function for each type of element we want to draw.\n",
    "    # Each can be customized with whichever color, shape and size you want.\n",
    "    ax = draw_coords([bot.position], ax, {\"c\": col_home_b1, \"marker\": \"*\", \"s\": 400})\n",
    "    ax = draw_coords(bot.walls, ax, {\"c\": \"black\", \"marker\": \"s\", \"s\": 250})\n",
    "    ax = draw_coords([bot.other.position], ax, {\"c\": col_home_b2, \"marker\": \"*\", \"s\": 400})\n",
    "    ax = draw_coords(bot.food, ax, {\"c\": col_home_food, \"s\": 100})\n",
    "    ax = draw_coords(bot.enemy[0].food, ax, {\"c\": col_enemy_food, \"s\": 100})\n",
    "    ax = draw_coords([bot.enemy[0].position], ax, {\"c\": col_enemy_b1, \"marker\": \"*\", \"s\": 400})\n",
    "    ax = draw_coords([bot.enemy[1].position], ax, {\"c\": col_enemy_b2, \"marker\": \"*\", \"s\": 400})\n",
    "    ax.axvline(np.sum(ax.get_xlim()) / 2, c=\"black\")\n",
    "    # This is to get the coordinate system to have it's origin in the top left\n",
    "    yd, yu = ax.get_ylim()\n",
    "    if yd < yu:\n",
    "        ax.invert_yaxis()\n",
    "    return ax"
   ]
  },
  {
   "cell_type": "markdown",
   "metadata": {},
   "source": [
    "Let's try:"
   ]
  },
  {
   "cell_type": "code",
   "execution_count": 5,
   "metadata": {
    "execution": {
     "iopub.execute_input": "2021-06-26T05:42:41.139Z",
     "iopub.status.busy": "2021-06-26T05:42:41.131Z",
     "iopub.status.idle": "2021-06-26T05:42:41.390Z",
     "shell.execute_reply": "2021-06-26T05:42:41.405Z"
    },
    "inputHidden": false,
    "outputHidden": false
   },
   "outputs": [
    {
     "data": {
      "image/png": "[encoded data removed]",
      "text/plain": [
       "<Figure size 1440x720 with 1 Axes>"
      ]
     },
     "metadata": {
      "needs_background": "light"
     },
     "output_type": "display_data"
    }
   ],
   "source": [
    "fig, ax = plt.subplots(figsize=(20,10))\n",
    "ax = draw_game(bot, ax)"
   ]
  },
  {
   "cell_type": "markdown",
   "metadata": {},
   "source": [
    "## Using 2d Numpy arrays\n",
    "You can also use numpy matrices. This may be useful for visualization and computation of the next move. The following code might help you get started along this route. \n",
    "\n",
    "The first thing we can do is to make a 2d Numpy Array of the same size as our maze and fill fields that have a wall with ones and the rest with zeros.\n",
    "Be aware that the indexing of numpy matrices, works by indexing as \\[row,column] and not by \\[x,y] coordinates as the pelita interface does. "
   ]
  },
  {
   "cell_type": "code",
   "execution_count": 6,
   "metadata": {
    "execution": {
     "iopub.execute_input": "2021-06-26T05:42:59.409Z",
     "iopub.status.busy": "2021-06-26T05:42:59.400Z",
     "iopub.status.idle": "2021-06-26T05:42:59.422Z",
     "shell.execute_reply": "2021-06-26T05:42:59.429Z"
    },
    "inputHidden": false,
    "outputHidden": false
   },
   "outputs": [],
   "source": [
    "def make_wall_map(bot):\n",
    "    \"\"\"\n",
    "    Computes a numpy array which takes the value 1 at coordinates that have a wall and zero everywhere else\n",
    "    Input:\n",
    "    - bot: pelita bot object\n",
    "    Returns:\n",
    "    - mat: numpy array\n",
    "    \"\"\"\n",
    "    maze_width, maze_height = bot.shape\n",
    "    wall_map = np.zeros((maze_height, maze_width))\n",
    "    # get separate lists of x and y coordinates from a list of tuples\n",
    "    wall_x, wall_y = zip(*bot.walls)\n",
    "    # matrices have y, x, or rather row, col indexing!\n",
    "    wall_map[wall_y, wall_x] = 1\n",
    "    return wall_map"
   ]
  },
  {
   "cell_type": "markdown",
   "metadata": {},
   "source": [
    "Matplotlib's `imshow`function lets you visualize 2d arrays as a heat map."
   ]
  },
  {
   "cell_type": "code",
   "execution_count": 7,
   "metadata": {
    "execution": {
     "iopub.execute_input": "2021-06-26T05:45:20.584Z",
     "iopub.status.busy": "2021-06-26T05:45:20.573Z",
     "iopub.status.idle": "2021-06-26T05:45:20.604Z",
     "shell.execute_reply": "2021-06-26T05:45:20.613Z"
    },
    "jupyter": {
     "outputs_hidden": false,
     "source_hidden": false
    },
    "nteract": {
     "transient": {
      "deleting": false
     }
    }
   },
   "outputs": [
    {
     "name": "stdout",
     "output_type": "stream",
     "text": [
      "blue (you) vs red.\n",
      "Playing on blue side. Current turn: 0. Bot: a. Round: None, score: 0:0. timeouts: 0:0\n",
      "################################\n",
      "#        . ..     #  . .    # y#\n",
      "# #.# ##  ## #     .####### # x#\n",
      "#  .   #.    # ## #        .#. #\n",
      "# .  . # ##  #    #.#..  #  . .#\n",
      "# ##.### #   # ## # ### #####. #\n",
      "# #   .# .  .# ##   #.      # .#\n",
      "#  .  . .#   #.   ###.### # ## #\n",
      "# ## # ###.###   .#   #. .  .  #\n",
      "#. #      .#   ## #.  . #.   # #\n",
      "# .##### ### # ## #   # ###.## #\n",
      "#. .  #  ..#.#    #  ## # .  . #\n",
      "# .#.        # ## #    .#   .  #\n",
      "#a # #######.     # ##  ## #.# #\n",
      "#b #    . .  #     .. .        #\n",
      "################################\n",
      "Bots: {'a': (1, 13), 'x': (30, 2), 'b': (1, 14), 'y': (30, 1)}\n",
      "Noisy: {'a': False, 'x': False, 'b': False, 'y': False}\n",
      "Food: [(12, 1), (3, 7), (5, 4), (14, 7), (4, 12), (12, 13), (8, 3), (10, 9), (9, 11), (1, 9), (4, 5), (3, 3), (12, 6), (9, 1), (11, 1), (2, 4), (8, 14), (10, 11), (10, 8), (10, 14), (1, 11), (2, 10), (6, 7), (3, 2), (12, 11), (3, 11), (8, 7), (9, 6), (2, 12), (6, 6), (23, 1), (20, 14), (22, 14), (30, 6), (28, 12), (19, 9), (27, 10), (26, 11), (22, 4), (21, 6), (23, 12), (19, 2), (27, 3), (17, 8), (28, 8), (19, 14), (25, 9), (29, 3), (29, 5), (22, 9), (23, 8), (28, 4), (19, 4), (30, 4), (28, 13), (25, 8), (21, 4), (29, 11), (21, 1), (21, 7)]\n",
      "\n"
     ]
    }
   ],
   "source": [
    "print(bot)"
   ]
  },
  {
   "cell_type": "code",
   "execution_count": 8,
   "metadata": {
    "execution": {
     "iopub.execute_input": "2021-06-26T05:43:00.772Z",
     "iopub.status.busy": "2021-06-26T05:43:00.765Z",
     "iopub.status.idle": "2021-06-26T05:43:00.975Z",
     "shell.execute_reply": "2021-06-26T05:43:00.990Z"
    },
    "inputHidden": false,
    "outputHidden": false
   },
   "outputs": [
    {
     "data": {
      "text/plain": [
       "<matplotlib.image.AxesImage at 0x7ffacb8bf3d0>"
      ]
     },
     "execution_count": 8,
     "metadata": {},
     "output_type": "execute_result"
    },
    {
     "data": {
      "image/png": "[encoded data removed]",
      "text/plain": [
       "<Figure size 1440x720 with 1 Axes>"
      ]
     },
     "metadata": {
      "needs_background": "light"
     },
     "output_type": "display_data"
    }
   ],
   "source": [
    "walls = make_wall_map(bot)\n",
    "fig, ax = plt.subplots(figsize=(20,10))\n",
    "ax.imshow(walls)"
   ]
  },
  {
   "cell_type": "markdown",
   "metadata": {},
   "source": [
    "Now we can put our scatter plot on top."
   ]
  },
  {
   "cell_type": "code",
   "execution_count": 9,
   "metadata": {
    "execution": {
     "iopub.execute_input": "2021-06-26T05:43:07.626Z",
     "iopub.status.busy": "2021-06-26T05:43:07.620Z",
     "iopub.status.idle": "2021-06-26T05:43:07.790Z",
     "shell.execute_reply": "2021-06-26T05:43:07.804Z"
    },
    "inputHidden": false,
    "outputHidden": false
   },
   "outputs": [
    {
     "data": {
      "image/png": "[encoded data removed]",
      "text/plain": [
       "<Figure size 1440x720 with 1 Axes>"
      ]
     },
     "metadata": {
      "needs_background": "light"
     },
     "output_type": "display_data"
    }
   ],
   "source": [
    "fig, ax = plt.subplots(figsize=(20,10))\n",
    "ax.imshow(walls, cmap=\"binary\")\n",
    "ax = draw_game(bot, ax)"
   ]
  },
  {
   "cell_type": "markdown",
   "metadata": {
    "inputHidden": false,
    "outputHidden": false
   },
   "source": [
    "This might also come in handy when you are looking at possible next moves. For example you could visualize your bot's legal moves like this:"
   ]
  },
  {
   "cell_type": "code",
   "execution_count": 10,
   "metadata": {
    "execution": {
     "iopub.execute_input": "2021-06-26T05:43:16.092Z",
     "iopub.status.busy": "2021-06-26T05:43:16.084Z",
     "iopub.status.idle": "2021-06-26T05:43:16.103Z",
     "shell.execute_reply": "2021-06-26T05:43:16.110Z"
    },
    "inputHidden": false,
    "outputHidden": false
   },
   "outputs": [],
   "source": [
    "maze_width, maze_height = bot.shape\n",
    "legpos = np.zeros((maze_height, maze_width))"
   ]
  },
  {
   "cell_type": "code",
   "execution_count": 11,
   "metadata": {
    "execution": {
     "iopub.execute_input": "2021-06-26T05:43:16.633Z",
     "iopub.status.busy": "2021-06-26T05:43:16.625Z",
     "iopub.status.idle": "2021-06-26T05:43:16.645Z",
     "shell.execute_reply": "2021-06-26T05:43:16.652Z"
    },
    "inputHidden": false,
    "outputHidden": false
   },
   "outputs": [],
   "source": [
    "def replace_coords(mat, coords, val):\n",
    "    \"\"\"\n",
    "    Computes a numpy array which takes the value val\n",
    "    Input:\n",
    "    - mat: numpy array\n",
    "    - coords: list of tuples of x,y coordinates\n",
    "    - val: value to write into the appropriate fields\n",
    "    Returns:\n",
    "    - mat: numpy array\n",
    "    \"\"\"\n",
    "    # get separate lists of x and y coordinates from a list of tuples\n",
    "    coords_x, coords_y = zip(*coords)\n",
    "    # matrices have y,x indexing!\n",
    "    mat[coords_y, coords_x] = val\n",
    "    return(mat)"
   ]
  },
  {
   "cell_type": "code",
   "execution_count": 12,
   "metadata": {
    "execution": {
     "iopub.execute_input": "2021-06-26T05:43:17.206Z",
     "iopub.status.busy": "2021-06-26T05:43:17.198Z",
     "iopub.status.idle": "2021-06-26T05:43:17.217Z",
     "shell.execute_reply": "2021-06-26T05:43:17.224Z"
    },
    "inputHidden": false,
    "outputHidden": false
   },
   "outputs": [],
   "source": [
    "legpos = replace_coords(legpos, bot.legal_positions, 1)"
   ]
  },
  {
   "cell_type": "code",
   "execution_count": 13,
   "metadata": {
    "execution": {
     "iopub.execute_input": "2021-06-26T05:43:18.048Z",
     "iopub.status.busy": "2021-06-26T05:43:18.040Z",
     "iopub.status.idle": "2021-06-26T05:43:18.234Z",
     "shell.execute_reply": "2021-06-26T05:43:18.246Z"
    },
    "inputHidden": false,
    "outputHidden": false
   },
   "outputs": [
    {
     "data": {
      "text/plain": [
       "<matplotlib.image.AxesImage at 0x7ffad394abb0>"
      ]
     },
     "execution_count": 13,
     "metadata": {},
     "output_type": "execute_result"
    },
    {
     "data": {
      "image/png": "[encoded data removed]",
      "text/plain": [
       "<Figure size 1440x720 with 1 Axes>"
      ]
     },
     "metadata": {
      "needs_background": "light"
     },
     "output_type": "display_data"
    }
   ],
   "source": [
    "fig, ax = plt.subplots(figsize=(20,10))\n",
    "ax.imshow(legpos, cmap=\"Reds\")"
   ]
  },
  {
   "cell_type": "markdown",
   "metadata": {},
   "source": [
    "And then add the game elements on top of the matrix:"
   ]
  },
  {
   "cell_type": "code",
   "execution_count": 14,
   "metadata": {
    "inputHidden": false,
    "outputHidden": false
   },
   "outputs": [
    {
     "data": {
      "image/png": "[encoded data removed]",
      "text/plain": [
       "<Figure size 1440x720 with 1 Axes>"
      ]
     },
     "metadata": {
      "needs_background": "light"
     },
     "output_type": "display_data"
    }
   ],
   "source": [
    "fig, ax = plt.subplots(figsize=(20,10))\n",
    "ax.imshow(legpos, cmap=\"Reds\")\n",
    "ax = draw_game(bot, ax)"
   ]
  },
  {
   "cell_type": "markdown",
   "metadata": {},
   "source": [
    "There are many ways to use 2d Numpy arrays to help decide the next move. Expanding on the binary examples shown here you could use them to computing floating point weights or activations for the fields."
   ]
  }
 ],
 "metadata": {
  "kernel_info": {
   "name": "pelita_env"
  },
  "kernelspec": {
   "display_name": "pelita",
   "language": "python",
   "name": "pelita"
  },
  "language_info": {
   "codemirror_mode": {
    "name": "ipython",
    "version": 3
   },
   "file_extension": ".py",
   "mimetype": "text/x-python",
   "name": "python",
   "nbconvert_exporter": "python",
   "pygments_lexer": "ipython3",
   "version": "3.9.6"
  },
  "nteract": {
   "version": "0.28.0"
  }
 },
 "nbformat": 4,
 "nbformat_minor": 4
}
